{
 "cells": [
  {
   "cell_type": "markdown",
   "metadata": {},
   "source": [
    "this project is used to analyze the best map bp when you queue in the faceit ladder, the browswer lobby king provided some ideas behind this project, however that browser extension is not very detailed and complete.\n",
    "\n",
    "I aim to develop a more effective way to select the best map."
   ]
  },
  {
   "cell_type": "code",
   "execution_count": 46,
   "metadata": {},
   "outputs": [],
   "source": [
    "#import essential libraries\n",
    "import requests\n",
    "import pandas as pd\n",
    "import numpy as np\n",
    "import pprint\n",
    "from tabulate import tabulate"
   ]
  },
  {
   "cell_type": "code",
   "execution_count": 47,
   "metadata": {},
   "outputs": [
    {
     "name": "stdout",
     "output_type": "stream",
     "text": [
      "['d59c9a03-5a13-47b7-9f6e-e8b7b35c255c', '16b9f05b-3f20-4440-8844-a9eeeb391e85', '8b8086b7-5bcb-4c94-8c47-08bfa4640661', 'a20d1adb-03b1-4b3a-ba40-48ddbf48c031', 'a9160f17-f82a-479d-a8a5-32638f155872']\n"
     ]
    }
   ],
   "source": [
    "#api key and name \n",
    "api_key = '9444122f-110e-4f4e-81fb-5162e1c70cac'\n",
    "api_name = 'Key_FhNKALzMPk'\n",
    "\n",
    "games_url = f'https://open.faceit.com/data/v4/matches/{input(\"please enter the faceit match id that you want to analyze\")}'\n",
    "headers = {\"Authorization\": f\"Bearer {api_key}\"}\n",
    "\n",
    "response = requests.get(games_url, headers=headers)\n",
    "data = response.json()\n",
    "\n",
    "# print(data)\n",
    "\n",
    "team_1_roster_playerr_id = []\n",
    "team_2_roster_playerr_id = []\n",
    "\n",
    "#get all players id \n",
    "team_1_roster = data['teams']['faction1']['roster']\n",
    "team_2_roster = data['teams']['faction2']['roster']\n",
    "\n",
    "for player in team_1_roster:\n",
    "    team_1_roster_playerr_id.append(player['player_id'])\n",
    "    \n",
    "for player in team_2_roster:\n",
    "    team_2_roster_playerr_id.append(player['player_id'])\n",
    "\n",
    "print(team_1_roster_playerr_id)"
   ]
  },
  {
   "cell_type": "code",
   "execution_count": 48,
   "metadata": {},
   "outputs": [
    {
     "name": "stdout",
     "output_type": "stream",
     "text": [
      "analyzing player:  d59c9a03-5a13-47b7-9f6e-e8b7b35c255c\n",
      "analyzing player:  16b9f05b-3f20-4440-8844-a9eeeb391e85\n",
      "analyzing player:  8b8086b7-5bcb-4c94-8c47-08bfa4640661\n",
      "analyzing player:  a20d1adb-03b1-4b3a-ba40-48ddbf48c031\n",
      "analyzing player:  a9160f17-f82a-479d-a8a5-32638f155872\n"
     ]
    }
   ],
   "source": [
    "df = pd.DataFrame(columns = ['player_id', 'match_id', 'map', 'win/loss', 'adr','kd_ratio','enemies_flashed_per_round','flashes_per_round_in_a_match','entry_entry_rate','match_entry_win_rate','sniper_kill_rate_per_match','utility_usage_per_round','utility_damage'])\n",
    "\n",
    "#next i will retrive the match history of each player\n",
    "\n",
    "player_match_history = {}\n",
    "\n",
    "for player_id in team_1_roster_playerr_id:\n",
    "    print('analyzing player: ', player_id)\n",
    "    \n",
    "    player_url = f\"https://open.faceit.com/data/v4/players/{player_id}/history?limit=10\"\n",
    "    response = requests.get(player_url, headers=headers).json()\n",
    "\n",
    "    matches = []\n",
    "    for i in response['items']:\n",
    "        matches.append(f\"https://open.faceit.com/data/v4/matches/{i['match_id']}/stats\")\n",
    "    \n",
    "    player_match_history[player_id] = matches\n",
    "\n",
    "\n",
    "    for match in matches:\n",
    "        response = requests.get(match, headers=headers).json()\n",
    "\n",
    "        round_stats = response['rounds'][0]['round_stats']\n",
    "        \n",
    "        map = round_stats['Map']\n",
    "        \n",
    "        score = round_stats['Score']\n",
    "        \n",
    "        winner = round_stats['Winner']\n",
    "        \n",
    "        team_1_roster_playerr_id = []\n",
    "        \n",
    "        for i in response['rounds'][0]['teams'][0]['players']:\n",
    "            team_1_roster_playerr_id.append(i['player_id'])\n",
    "        if winner == response['rounds'][0]['teams'][0]['team_id'] and player_id in team_1_roster_playerr_id:\n",
    "            win_loss = 1\n",
    "        else:\n",
    "            win_loss = 0\n",
    "        \n",
    "        for team in response['rounds'][0]['teams']:\n",
    "            for player in team['players']:\n",
    "                if player_id == player['player_id']:\n",
    "                    player_stats = player['player_stats']\n",
    "        \n",
    "        adr = player_stats['ADR']\n",
    "        \n",
    "        kd_ratio = player_stats['K/D Ratio']\n",
    "        \n",
    "        enemies_flashed_per_round = player_stats['Enemies Flashed per Round in a Match']\n",
    "        \n",
    "        flashes_per_round_in_a_match = player_stats['Flashes per Round in a Match']\n",
    "        \n",
    "        entry_entry_rate = player_stats['Match Entry Rate'] \n",
    "        \n",
    "        match_entry_win_rate = player_stats['Match Entry Success Rate']\n",
    "        \n",
    "        sniper_kill_rate_per_match = player_stats['Sniper Kill Rate per Match']\n",
    "        \n",
    "        utility_usage_per_round = player_stats['Utility Usage per Round']\n",
    "        \n",
    "        utility_damage = player_stats['Utility Damage']\n",
    "        \n",
    "\n",
    "    #create a dictionary\n",
    "\n",
    "        stats = {'player_id':player_id,'match_id':matches[0],'map':map,'win/loss':win_loss, 'adr':adr,'kd_ratio':kd_ratio,'enemies_flashed_per_round':enemies_flashed_per_round,'flashes_per_round_in_a_match':flashes_per_round_in_a_match,'entry_entry_rate':entry_entry_rate,'match_entry_win_rate':match_entry_win_rate,'sniper_kill_rate_per_match':sniper_kill_rate_per_match,'utility_usage_per_round':utility_usage_per_round,'utility_damage':utility_damage}\n",
    "        \n",
    "        df.loc[len(df)] = stats\n"
   ]
  },
  {
   "cell_type": "code",
   "execution_count": 49,
   "metadata": {},
   "outputs": [],
   "source": [
    "\n",
    "\n",
    "df.to_csv('output.csv', index=False) \n"
   ]
  }
 ],
 "metadata": {
  "kernelspec": {
   "display_name": "Python 3",
   "language": "python",
   "name": "python3"
  },
  "language_info": {
   "codemirror_mode": {
    "name": "ipython",
    "version": 3
   },
   "file_extension": ".py",
   "mimetype": "text/x-python",
   "name": "python",
   "nbconvert_exporter": "python",
   "pygments_lexer": "ipython3",
   "version": "3.12.6"
  }
 },
 "nbformat": 4,
 "nbformat_minor": 2
}
